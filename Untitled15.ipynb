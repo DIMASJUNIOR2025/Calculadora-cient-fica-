{
  "nbformat": 4,
  "nbformat_minor": 0,
  "metadata": {
    "colab": {
      "provenance": [],
      "authorship_tag": "ABX9TyMW3tQsopzNm+mytmRFLSOj",
      "include_colab_link": true
    },
    "kernelspec": {
      "name": "python3",
      "display_name": "Python 3"
    },
    "language_info": {
      "name": "python"
    }
  },
  "cells": [
    {
      "cell_type": "markdown",
      "metadata": {
        "id": "view-in-github",
        "colab_type": "text"
      },
      "source": [
        "<a href=\"https://colab.research.google.com/github/DIMASJUNIOR2025/Calculadora-cient-fica-/blob/main/Untitled15.ipynb\" target=\"_parent\"><img src=\"https://colab.research.google.com/assets/colab-badge.svg\" alt=\"Open In Colab\"/></a>"
      ]
    },
    {
      "cell_type": "code",
      "execution_count": 2,
      "metadata": {
        "colab": {
          "base_uri": "https://localhost:8080/"
        },
        "id": "dOW_V6v3O2xE",
        "outputId": "d68e4681-9f1e-4c8f-bb81-9cf69d20a9c0"
      },
      "outputs": [
        {
          "output_type": "stream",
          "name": "stdout",
          "text": [
            "Digite o coeficiente 'a': 2\n",
            "Digite o coeficiente 'b': 5\n",
            "Digite o coeficiente 'c': 3\n",
            "As raízes da equação são: x1 = -1.5, x2 = -1.0\n"
          ]
        }
      ],
      "source": [
        "import cmath\n",
        "\n",
        "def resolver_equacao_segundo_grau(a, b, c):\n",
        "    \"\"\"\n",
        "    Resolve equações de segundo grau: ax^2 + bx + c = 0.\n",
        "\n",
        "    Args:\n",
        "        a: Coeficiente de x^2.\n",
        "        b: Coeficiente de x.\n",
        "        c: Termo independente.\n",
        "\n",
        "    Returns:\n",
        "        Uma string com as raízes da equação ou uma mensagem de erro.\n",
        "    \"\"\"\n",
        "    if a == 0:\n",
        "        return \"Para resolver equações de segundo grau, o coeficiente 'a' deve ser diferente de zero.\"\n",
        "    else:\n",
        "        delta = (b**2) - 4*(a*c)\n",
        "        if delta >= 0:\n",
        "            x1 = (-b - delta**0.5) / (2*a)\n",
        "            x2 = (-b + delta**0.5) / (2*a)\n",
        "            return f\"As raízes da equação são: x1 = {x1}, x2 = {x2}\"\n",
        "        else:\n",
        "            x1 = (-b - cmath.sqrt(delta)) / (2*a)\n",
        "            x2 = (-b + cmath.sqrt(delta)) / (2*a)\n",
        "            return f\"As raízes complexas da equação são: x1 = {x1}, x2 = {x2}\"\n",
        "\n",
        "# Entrada do usuário:\n",
        "try:\n",
        "    a = float(input(\"Digite o coeficiente 'a': \"))\n",
        "    b = float(input(\"Digite o coeficiente 'b': \"))\n",
        "    c = float(input(\"Digite o coeficiente 'c': \"))\n",
        "\n",
        "    resultado = resolver_equacao_segundo_grau(a, b, c)\n",
        "    print(resultado)\n",
        "\n",
        "except ValueError:\n",
        "    print(\"Entrada inválida. Por favor, digite números para os coeficientes.\")"
      ]
    }
  ]
}